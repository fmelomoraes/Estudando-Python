{
  "nbformat": 4,
  "nbformat_minor": 0,
  "metadata": {
    "colab": {
      "provenance": [],
      "authorship_tag": "ABX9TyNeaH3o7RY/Vu19okn3CFZM",
      "include_colab_link": true
    },
    "kernelspec": {
      "name": "python3",
      "display_name": "Python 3"
    },
    "language_info": {
      "name": "python"
    }
  },
  "cells": [
    {
      "cell_type": "markdown",
      "metadata": {
        "id": "view-in-github",
        "colab_type": "text"
      },
      "source": [
        "<a href=\"https://colab.research.google.com/github/fmelomoraes/Estudando-Python/blob/main/Condicionais.ipynb\" target=\"_parent\"><img src=\"https://colab.research.google.com/assets/colab-badge.svg\" alt=\"Open In Colab\"/></a>"
      ]
    },
    {
      "cell_type": "markdown",
      "source": [
        "## Exercícios - Condicionais II\n",
        "\n",
        "1. Declare as variáveis numéricas A, B, C\n",
        "2. Faça a soma de A e B\n",
        "3. Imptima na tela se a soma de A e B é maior que C"
      ],
      "metadata": {
        "id": "AfDq-zJoUzln"
      }
    },
    {
      "cell_type": "code",
      "execution_count": null,
      "metadata": {
        "colab": {
          "base_uri": "https://localhost:8080/"
        },
        "id": "C-G9k0SFUzIv",
        "outputId": "f9f5ad67-bb78-4da0-8226-f059a959791c"
      },
      "outputs": [
        {
          "output_type": "stream",
          "name": "stdout",
          "text": [
            "A soma é maior que C\n"
          ]
        }
      ],
      "source": [
        "A=10\n",
        "B=15\n",
        "C=15\n",
        "\n",
        "soma = A + B\n",
        "\n",
        "if soma > C:\n",
        "  print(\"A soma é maior que C\")\n",
        "else:\n",
        "  print(\"A soma não é maior que C\")"
      ]
    },
    {
      "cell_type": "markdown",
      "source": [
        "1. Declare uma variável numérica A\n",
        "2. Retorno \"PAR\" caso A seja par, e \"IMPAR\" caso A seja ímpar.\n"
      ],
      "metadata": {
        "id": "VZ9-PonjXWsG"
      }
    },
    {
      "cell_type": "code",
      "source": [
        "A = 25\n",
        "\n",
        "if A % 2 == 0:\n",
        "  print(\"PAR\")\n",
        "else:\n",
        "  print(\"IMPAR\")"
      ],
      "metadata": {
        "colab": {
          "base_uri": "https://localhost:8080/"
        },
        "id": "KF8ywzgrVc6H",
        "outputId": "ee207dbb-1524-4430-bf74-2023111ce59f"
      },
      "execution_count": null,
      "outputs": [
        {
          "output_type": "stream",
          "name": "stdout",
          "text": [
            "IMPAR\n"
          ]
        }
      ]
    },
    {
      "cell_type": "markdown",
      "source": [
        "Escreva uma algoritmo que leia três valores inteiros e diferentes, mostre-os em ordem decrescente."
      ],
      "metadata": {
        "id": "MF9bcxQKYr_9"
      }
    },
    {
      "cell_type": "code",
      "source": [
        "a= 4\n",
        "b= 10\n",
        "c= 15\n",
        "\n",
        "if (a > b) and (a > c):\n",
        "  primeiro = a\n",
        "  if b > c:\n",
        "    segundo = b\n",
        "    terceiro = c\n",
        "  else:\n",
        "    segundo = c\n",
        "    terceiro = b\n",
        "\n",
        "elif (b > a) and (b > c):\n",
        "  primeiro = b\n",
        "  if a > c:\n",
        "    segundo = a\n",
        "    terceiro = c\n",
        "  else:\n",
        "    segundo = c\n",
        "    terceiro = a\n",
        "else:\n",
        "  primeiro = c\n",
        "  if a > b:\n",
        "    segundo = a\n",
        "    terceiro = b\n",
        "  else:\n",
        "    segundo = b\n",
        "    terceiro = a\n",
        "\n",
        "print(primeiro, segundo, terceiro)"
      ],
      "metadata": {
        "id": "f_q0dN9bX0Be",
        "colab": {
          "base_uri": "https://localhost:8080/"
        },
        "outputId": "b3289105-3c43-4582-a0f9-863aa4353143"
      },
      "execution_count": null,
      "outputs": [
        {
          "output_type": "stream",
          "name": "stdout",
          "text": [
            "15 10 4\n"
          ]
        }
      ]
    },
    {
      "cell_type": "markdown",
      "source": [
        "Os valores máximos aceitáveis de colesterol variam de acordo com características  individuais. Sabe-se que idosos, fumantes e cardiopatas devem manter seu colesterol LDL abaixo de 70, já pacientes sem nenhuma doença devem manter o colesterol de 130.\n",
        "\n",
        "Crie um código que recebe a informação se a pessoa é idosa, fumante ou cardiopata, seu nível de colesterol e retono \"SAUDÁBEL\" caso os níveis estejam dentro do recomendado ou \"NÃO SAUDÁVEL\"."
      ],
      "metadata": {
        "id": "SB6yHMHGukqC"
      }
    },
    {
      "cell_type": "code",
      "source": [
        "ldl = 69\n",
        "comorbidade = True\n",
        "\n",
        "if comorbidade:\n",
        "  if ldl < 70:\n",
        "    print('SAUDÁVEL')\n",
        "  else:\n",
        "    print('NÃO SAUDÁVEL')\n",
        "\n",
        "else:\n",
        "  if ldl < 130:\n",
        "    print('SAUDÁVEL')\n",
        "  else:\n",
        "    print('NÂO SAUDÁVEL')"
      ],
      "metadata": {
        "colab": {
          "base_uri": "https://localhost:8080/"
        },
        "id": "akLRbo6Au_6q",
        "outputId": "489b62dc-374c-4505-a6e9-95455e973808"
      },
      "execution_count": 5,
      "outputs": [
        {
          "output_type": "stream",
          "name": "stdout",
          "text": [
            "SAUDÁVEL\n"
          ]
        }
      ]
    },
    {
      "cell_type": "markdown",
      "source": [],
      "metadata": {
        "id": "mvAwvsKsufzb"
      }
    }
  ]
}