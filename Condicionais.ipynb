{
  "nbformat": 4,
  "nbformat_minor": 0,
  "metadata": {
    "colab": {
      "provenance": [],
      "authorship_tag": "ABX9TyM7t7YRSb7OvIYlbS0ppEHC",
      "include_colab_link": true
    },
    "kernelspec": {
      "name": "python3",
      "display_name": "Python 3"
    },
    "language_info": {
      "name": "python"
    }
  },
  "cells": [
    {
      "cell_type": "markdown",
      "metadata": {
        "id": "view-in-github",
        "colab_type": "text"
      },
      "source": [
        "<a href=\"https://colab.research.google.com/github/fmelomoraes/Estudando-Python/blob/main/Condicionais.ipynb\" target=\"_parent\"><img src=\"https://colab.research.google.com/assets/colab-badge.svg\" alt=\"Open In Colab\"/></a>"
      ]
    },
    {
      "cell_type": "code",
      "execution_count": null,
      "metadata": {
        "colab": {
          "base_uri": "https://localhost:8080/"
        },
        "id": "2em6Oo8Ll619",
        "outputId": "2314b2a5-0d17-42e4-ab79-cb69a7fc75f3"
      },
      "outputs": [
        {
          "output_type": "stream",
          "name": "stdout",
          "text": [
            "menor de idade\n"
          ]
        }
      ],
      "source": [
        "idade = 17\n",
        "\n",
        "if idade > 18:\n",
        "  faixaEtaria = \"adulto\"\n",
        "else:\n",
        "  faixaEtaria = \"menor de idade\"\n",
        "\n",
        "print(faixaEtaria)"
      ]
    },
    {
      "cell_type": "code",
      "source": [
        "# Modo de Pagamento\n",
        "\n",
        "modoDePagamento = \"à vista\"\n",
        "\n",
        "if modoDePagamento == \"à vista\":\n",
        "  desconto = True\n",
        "else:\n",
        "  desconto = False\n",
        "\n",
        "print(desconto)"
      ],
      "metadata": {
        "colab": {
          "base_uri": "https://localhost:8080/"
        },
        "id": "4ff4szgBnWfq",
        "outputId": "6306fdbb-d849-41b8-8452-41a8926e188e"
      },
      "execution_count": null,
      "outputs": [
        {
          "output_type": "stream",
          "name": "stdout",
          "text": [
            "True\n"
          ]
        }
      ]
    },
    {
      "cell_type": "code",
      "source": [
        "nivelDeChuva = 0\n",
        "\n",
        "if nivelDeChuva > 0:\n",
        "  lavarRoupa = False\n",
        "else:\n",
        "  lavarRoupa = True\n",
        "\n",
        "print(lavarRoupa)"
      ],
      "metadata": {
        "colab": {
          "base_uri": "https://localhost:8080/"
        },
        "id": "9uN6dbp_oMNa",
        "outputId": "3831b99d-44ef-4ca3-b89d-71bfc3d5675c"
      },
      "execution_count": null,
      "outputs": [
        {
          "output_type": "stream",
          "name": "stdout",
          "text": [
            "True\n"
          ]
        }
      ]
    },
    {
      "cell_type": "code",
      "source": [
        "distanciaDaViagem = 400\n",
        "\n",
        "if distanciaDaViagem >= 500:\n",
        "  dormir = True\n",
        "else:\n",
        "  dormir = False\n",
        "\n",
        "print(dormir)"
      ],
      "metadata": {
        "colab": {
          "base_uri": "https://localhost:8080/"
        },
        "id": "tvXr4PNWo4uT",
        "outputId": "4e4ee6a8-d576-48e5-80d4-bcf58778518d"
      },
      "execution_count": null,
      "outputs": [
        {
          "output_type": "stream",
          "name": "stdout",
          "text": [
            "False\n"
          ]
        }
      ]
    },
    {
      "cell_type": "code",
      "source": [],
      "metadata": {
        "id": "ltct2tX3pPtT"
      },
      "execution_count": null,
      "outputs": []
    },
    {
      "cell_type": "code",
      "source": [],
      "metadata": {
        "id": "xv7ZNZE3qnzS"
      },
      "execution_count": null,
      "outputs": []
    }
  ]
}