{
  "nbformat": 4,
  "nbformat_minor": 0,
  "metadata": {
    "colab": {
      "provenance": [],
      "authorship_tag": "ABX9TyNmL2xOysdae/934VO8ZD83",
      "include_colab_link": true
    },
    "kernelspec": {
      "name": "python3",
      "display_name": "Python 3"
    },
    "language_info": {
      "name": "python"
    }
  },
  "cells": [
    {
      "cell_type": "markdown",
      "metadata": {
        "id": "view-in-github",
        "colab_type": "text"
      },
      "source": [
        "<a href=\"https://colab.research.google.com/github/fmelomoraes/Estudando-Python/blob/main/estruturasCondicionais.ipynb\" target=\"_parent\"><img src=\"https://colab.research.google.com/assets/colab-badge.svg\" alt=\"Open In Colab\"/></a>"
      ]
    },
    {
      "cell_type": "markdown",
      "source": [
        "## Estruturas Condicionais"
      ],
      "metadata": {
        "id": "W2IBo1v2biR8"
      }
    },
    {
      "cell_type": "code",
      "execution_count": null,
      "metadata": {
        "colab": {
          "base_uri": "https://localhost:8080/"
        },
        "id": "HqOl_g9129RW",
        "outputId": "40b2f659-f6bd-403b-8eb4-87a248ee264b"
      },
      "outputs": [
        {
          "output_type": "stream",
          "name": "stdout",
          "text": [
            "4 não é maior que 5\n"
          ]
        }
      ],
      "source": [
        "if 4 > 5:\n",
        "  print(\"4 é maior que 5\")\n",
        "else:\n",
        "  print(\"4 não é maior que 5\")\n"
      ]
    },
    {
      "cell_type": "code",
      "source": [
        "num1 = 10\n",
        "num2 = 12\n",
        "\n",
        "if num1 == num2:\n",
        "  print(\"Os números são iguais\")\n",
        "else:\n",
        "  print(\"Os números são diferentes\")"
      ],
      "metadata": {
        "colab": {
          "base_uri": "https://localhost:8080/"
        },
        "id": "AYO_0jBw3t1U",
        "outputId": "304d3902-7d1b-4c5b-8cde-f8d1f1d0a295"
      },
      "execution_count": null,
      "outputs": [
        {
          "output_type": "stream",
          "name": "stdout",
          "text": [
            "Os números são diferentes\n"
          ]
        }
      ]
    },
    {
      "cell_type": "code",
      "source": [
        "idade = 16\n",
        "\n",
        "if idade >= 18:\n",
        "  print(\"Você é maior de idade\")\n",
        "else:\n",
        "  print(\"Você é menor de idade\")\n",
        "\n",
        "\n",
        "metodo_pagamento = input(\"Qual o tipo de pagamento: \")\n",
        "\n",
        "if metodo_pagamento.lower() == \"à vista\":\n",
        "  print(\"Seu pagamento é à vista.\")\n",
        "else:\n",
        "  print(\"Seu pagamento não é à vista.\")\n"
      ],
      "metadata": {
        "colab": {
          "base_uri": "https://localhost:8080/"
        },
        "id": "SvRFbUL54OEY",
        "outputId": "a126d2de-e53b-4ddd-bc2d-71c072e48488"
      },
      "execution_count": null,
      "outputs": [
        {
          "output_type": "stream",
          "name": "stdout",
          "text": [
            "Você é menor de idade\n",
            "Qual o tipo de pagamento: à vista\n",
            "Seu pagamento é à vista.\n"
          ]
        }
      ]
    },
    {
      "cell_type": "code",
      "source": [
        "print(\"Me diga o nível da chuva: 0 (não está chovendo), e 1 (está chovendo)\")\n",
        "escala_chuva = int(input(\" Me dê a sua resposta: \"))\n",
        "\n",
        "if escala_chuva == 0:\n",
        "  print(\"Não está chovendo\")\n",
        "else:\n",
        "  print(\" Está chovendo\")"
      ],
      "metadata": {
        "colab": {
          "base_uri": "https://localhost:8080/"
        },
        "id": "-n_4Si3nAeTE",
        "outputId": "1678ec5b-d16d-45fc-fbcd-6c2acda9cdd7"
      },
      "execution_count": null,
      "outputs": [
        {
          "output_type": "stream",
          "name": "stdout",
          "text": [
            "Me diga o nível da chuva: 0 (não está chovendo), e 1 (está chovendo)\n",
            " Me dê a sua resposta: 1\n",
            " Está chovendo\n"
          ]
        }
      ]
    }
  ]
}