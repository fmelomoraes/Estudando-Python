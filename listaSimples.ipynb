{
  "nbformat": 4,
  "nbformat_minor": 0,
  "metadata": {
    "colab": {
      "provenance": [],
      "authorship_tag": "ABX9TyMi/HG6/cnizIkbDq/HRGBY",
      "include_colab_link": true
    },
    "kernelspec": {
      "name": "python3",
      "display_name": "Python 3"
    },
    "language_info": {
      "name": "python"
    }
  },
  "cells": [
    {
      "cell_type": "markdown",
      "metadata": {
        "id": "view-in-github",
        "colab_type": "text"
      },
      "source": [
        "<a href=\"https://colab.research.google.com/github/fmelomoraes/Estudando-Python/blob/main/listaSimples.ipynb\" target=\"_parent\"><img src=\"https://colab.research.google.com/assets/colab-badge.svg\" alt=\"Open In Colab\"/></a>"
      ]
    },
    {
      "cell_type": "markdown",
      "source": [
        "Criando uma lista"
      ],
      "metadata": {
        "id": "_n782quMU6QE"
      }
    },
    {
      "cell_type": "code",
      "execution_count": null,
      "metadata": {
        "id": "Ie9lUtJzTZvx"
      },
      "outputs": [],
      "source": [
        "# Lista de numeros\n",
        "numeros = [1, 2, 3, 4, 5]\n",
        "\n",
        "# Lista de strings\n",
        "frutas = [\"maçã\", \"banana\", \"laranja\"]\n"
      ]
    },
    {
      "cell_type": "markdown",
      "source": [
        "# Acessando os elementos da lista\n",
        "Dessa forma eu acesso o primeiro **elemento**"
      ],
      "metadata": {
        "id": "XtZaYMspaEAM"
      }
    },
    {
      "cell_type": "code",
      "source": [
        "primeiro_numero = numeros[0]\n",
        "print(primeiro_numero)\n"
      ],
      "metadata": {
        "colab": {
          "base_uri": "https://localhost:8080/"
        },
        "id": "sJOBSjhraDN1",
        "outputId": "2540e377-3a95-4d47-ebd7-eb6847bbe1d6"
      },
      "execution_count": null,
      "outputs": [
        {
          "output_type": "stream",
          "name": "stdout",
          "text": [
            "1\n"
          ]
        }
      ]
    },
    {
      "cell_type": "markdown",
      "source": [
        " Quando coloco o \"-1\" o python ler da direita pra esquerda.\n"
      ],
      "metadata": {
        "id": "0lRhFRWAaRk8"
      }
    },
    {
      "cell_type": "code",
      "source": [
        "ultima_fruta = frutas[-1]\n",
        "print(ultima_fruta)"
      ],
      "metadata": {
        "colab": {
          "base_uri": "https://localhost:8080/"
        },
        "id": "JhQdyonCaUyM",
        "outputId": "b6d2e4db-a9e0-4720-bd40-7f9ce2eace01"
      },
      "execution_count": null,
      "outputs": [
        {
          "output_type": "stream",
          "name": "stdout",
          "text": [
            "laranja\n"
          ]
        }
      ]
    },
    {
      "cell_type": "markdown",
      "source": [
        " Adicionando elementos à lista\n",
        "\n",
        "#append()\n",
        "\n",
        "Usado para adicionar elementos no final"
      ],
      "metadata": {
        "id": "zcPo73lQYQoE"
      }
    },
    {
      "cell_type": "code",
      "source": [
        "numeros.append(6)\n",
        "\n",
        "\n"
      ],
      "metadata": {
        "id": "SMhWVF1RawfW"
      },
      "execution_count": null,
      "outputs": []
    },
    {
      "cell_type": "markdown",
      "source": [
        "#insert()\n",
        "Adiciona um elemento em uma posição específica"
      ],
      "metadata": {
        "id": "p55b-QZqcYQF"
      }
    },
    {
      "cell_type": "code",
      "source": [
        "frutas.insert(1, \"morango\")\n"
      ],
      "metadata": {
        "id": "CEMTIIoBbBJ0"
      },
      "execution_count": null,
      "outputs": []
    },
    {
      "cell_type": "markdown",
      "source": [
        "Removendo elementos da lista\n",
        "\n",
        "#remove()\n"
      ],
      "metadata": {
        "id": "9LmNQaF1cwEN"
      }
    },
    {
      "cell_type": "code",
      "source": [
        "# Remove o elemento específico\n",
        "\n",
        "numeros.remove(3)\n",
        "print(numeros)"
      ],
      "metadata": {
        "colab": {
          "base_uri": "https://localhost:8080/"
        },
        "id": "k46zQ3Jbc3es",
        "outputId": "07ab8ec6-217d-4817-f38d-14f33a8229be"
      },
      "execution_count": null,
      "outputs": [
        {
          "output_type": "stream",
          "name": "stdout",
          "text": [
            "[1, 2, 4, 5]\n"
          ]
        }
      ]
    },
    {
      "cell_type": "markdown",
      "source": [
        "#.pop\n",
        "Com o .pop consigo remover o último elemento"
      ],
      "metadata": {
        "id": "3OclSoUDeEdl"
      }
    },
    {
      "cell_type": "code",
      "source": [
        "ultima_fruta = frutas.pop()\n",
        "print(frutas)"
      ],
      "metadata": {
        "colab": {
          "base_uri": "https://localhost:8080/"
        },
        "id": "WOCAp00jc89W",
        "outputId": "499026f2-6346-415e-a6f6-873534ab584a"
      },
      "execution_count": null,
      "outputs": [
        {
          "output_type": "stream",
          "name": "stdout",
          "text": [
            "['maçã', 'banana']\n"
          ]
        }
      ]
    },
    {
      "cell_type": "markdown",
      "source": [
        "#.pop(x)\n",
        "Também posso remover um elemento em uma posição específica"
      ],
      "metadata": {
        "id": "Q5a5QBO_e16F"
      }
    },
    {
      "cell_type": "code",
      "source": [
        "# Removeu a primeira fruta \"maçã\"\n",
        "frutas_removida = frutas.pop(0)\n",
        "print(frutas)"
      ],
      "metadata": {
        "colab": {
          "base_uri": "https://localhost:8080/"
        },
        "id": "uNGNbbjdeUq8",
        "outputId": "d35c9656-2143-4789-fcf3-77edf3cdb0b3"
      },
      "execution_count": null,
      "outputs": [
        {
          "output_type": "stream",
          "name": "stdout",
          "text": [
            "['banana', 'laranja']\n"
          ]
        }
      ]
    },
    {
      "cell_type": "markdown",
      "source": [
        "# Agora é sobre Iterar elementos da lista"
      ],
      "metadata": {
        "id": "u7QkkQ_2fgb2"
      }
    },
    {
      "cell_type": "code",
      "source": [
        "# Iterar e imprimir cada número\n",
        "for numero in numeros:\n",
        "  print(numeros)"
      ],
      "metadata": {
        "colab": {
          "base_uri": "https://localhost:8080/"
        },
        "id": "shNDKNu6fLo1",
        "outputId": "3b0dac9c-c21c-424f-a3ae-f02b7f20ab73"
      },
      "execution_count": null,
      "outputs": [
        {
          "output_type": "stream",
          "name": "stdout",
          "text": [
            "[1, 2, 3, 4, 5]\n",
            "[1, 2, 3, 4, 5]\n",
            "[1, 2, 3, 4, 5]\n",
            "[1, 2, 3, 4, 5]\n",
            "[1, 2, 3, 4, 5]\n"
          ]
        }
      ]
    },
    {
      "cell_type": "code",
      "source": [
        "# Iterar e imprimir com índice\n",
        "\n",
        "\n",
        "for indice, frutas in enumerate(frutas):\n",
        "  print(f\"Índice {indice}: {frutas}\")"
      ],
      "metadata": {
        "colab": {
          "base_uri": "https://localhost:8080/"
        },
        "id": "jH4VqcYugUqt",
        "outputId": "b5e8dc61-9c51-4256-e4c8-afe693b3c03a"
      },
      "execution_count": null,
      "outputs": [
        {
          "output_type": "stream",
          "name": "stdout",
          "text": [
            "Índice 0: maçã\n",
            "Índice 1: banana\n",
            "Índice 2: laranja\n"
          ]
        }
      ]
    },
    {
      "cell_type": "markdown",
      "source": [
        "#Exercício para praticar"
      ],
      "metadata": {
        "id": "0gjmxVInhu0d"
      }
    },
    {
      "cell_type": "code",
      "source": [
        "lista_compras = [\"Arroz\",\"Feijão\",\"Leite\",\"Maçã\",\"Dadone\",\"Farinha\"]\n",
        "\n",
        "for indice, lista_compras in enumerate(lista_compras):\n",
        "  print(f\"Índice {indice}: {lista_compras}\")"
      ],
      "metadata": {
        "colab": {
          "base_uri": "https://localhost:8080/"
        },
        "id": "Oeh9B2-fhuFV",
        "outputId": "6730d11c-1eae-45a3-c39c-0cb5aa4cf56c"
      },
      "execution_count": null,
      "outputs": [
        {
          "output_type": "stream",
          "name": "stdout",
          "text": [
            "Índice 0: Arroz\n",
            "Índice 1: Feijão\n",
            "Índice 2: Leite\n",
            "Índice 3: Maçã\n",
            "Índice 4: Dadone\n",
            "Índice 5: Farinha\n"
          ]
        }
      ]
    },
    {
      "cell_type": "code",
      "source": [],
      "metadata": {
        "id": "G-iBrcOFidxW"
      },
      "execution_count": null,
      "outputs": []
    }
  ]
}