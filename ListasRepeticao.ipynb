{
  "nbformat": 4,
  "nbformat_minor": 0,
  "metadata": {
    "colab": {
      "provenance": [],
      "authorship_tag": "ABX9TyO9jL1amVnuJjfE4bP3V0iR",
      "include_colab_link": true
    },
    "kernelspec": {
      "name": "python3",
      "display_name": "Python 3"
    },
    "language_info": {
      "name": "python"
    }
  },
  "cells": [
    {
      "cell_type": "markdown",
      "metadata": {
        "id": "view-in-github",
        "colab_type": "text"
      },
      "source": [
        "<a href=\"https://colab.research.google.com/github/fmelomoraes/Estudando-Python/blob/main/ListasRepeticao.ipynb\" target=\"_parent\"><img src=\"https://colab.research.google.com/assets/colab-badge.svg\" alt=\"Open In Colab\"/></a>"
      ]
    },
    {
      "cell_type": "markdown",
      "source": [
        "Métodos:\n",
        "\n",
        "# **append()**\n",
        "- Permite inserir"
      ],
      "metadata": {
        "id": "x325J5iS2tiC"
      }
    },
    {
      "cell_type": "code",
      "execution_count": 8,
      "metadata": {
        "colab": {
          "base_uri": "https://localhost:8080/"
        },
        "id": "NgqpP-9k2Ifl",
        "outputId": "a083f50b-92b1-4c5b-c640-37fddf278c09"
      },
      "outputs": [
        {
          "output_type": "stream",
          "name": "stdout",
          "text": [
            "[8, 9, 10, 8.7, 9.7]\n"
          ]
        }
      ],
      "source": [
        "notas = [8, 9, 10, 8.7]\n",
        "notas.append(9.7)\n",
        "\n",
        "print(notas)"
      ]
    },
    {
      "cell_type": "markdown",
      "source": [
        "# **count()**\n",
        "- Utilizado para fazer a contagem"
      ],
      "metadata": {
        "id": "RF9WkYpS3Qsq"
      }
    },
    {
      "cell_type": "code",
      "source": [
        "notas = [8, 7, 9, 10, 10, 7, 10, 8, 10]\n",
        "notas.count(10)\n"
      ],
      "metadata": {
        "colab": {
          "base_uri": "https://localhost:8080/"
        },
        "id": "zAccW9cy3NHb",
        "outputId": "4a147062-719f-49e0-f993-4e1ed76b7051"
      },
      "execution_count": 5,
      "outputs": [
        {
          "output_type": "execute_result",
          "data": {
            "text/plain": [
              "4"
            ]
          },
          "metadata": {},
          "execution_count": 5
        }
      ]
    },
    {
      "cell_type": "markdown",
      "source": [
        "# **insert()**\n",
        "- Utilizado para substituir item na lista"
      ],
      "metadata": {
        "id": "dosdOZj44RTR"
      }
    },
    {
      "cell_type": "code",
      "source": [
        "vogais = [\"a\", \"e\", \"i\", \"u\"]\n",
        "\n",
        "vogais.insert(3, \"o\")\n",
        "\n",
        "vogais"
      ],
      "metadata": {
        "colab": {
          "base_uri": "https://localhost:8080/"
        },
        "id": "K99-o_1j39_6",
        "outputId": "88d745ef-b439-455d-efcb-ba7b9092bfda"
      },
      "execution_count": 9,
      "outputs": [
        {
          "output_type": "execute_result",
          "data": {
            "text/plain": [
              "['a', 'e', 'i', 'o', 'u']"
            ]
          },
          "metadata": {},
          "execution_count": 9
        }
      ]
    },
    {
      "cell_type": "markdown",
      "source": [
        "# **index()**\n",
        "- Mostra a posição que o elemento se encontra na lista\n",
        "\n",
        "**Atenção**: Retorna somente o índice da primeira aparição do elemento na lista."
      ],
      "metadata": {
        "id": "LmwtdVrV40GZ"
      }
    },
    {
      "cell_type": "code",
      "source": [
        "vogais = ['a', 'e', 'i', 'o', 'u']\n",
        "vogais.index(\"i\")"
      ],
      "metadata": {
        "colab": {
          "base_uri": "https://localhost:8080/"
        },
        "id": "RygIqsZW4qtZ",
        "outputId": "2003ab4b-dfc7-4308-fc07-013340e9885c"
      },
      "execution_count": 10,
      "outputs": [
        {
          "output_type": "execute_result",
          "data": {
            "text/plain": [
              "2"
            ]
          },
          "metadata": {},
          "execution_count": 10
        }
      ]
    },
    {
      "cell_type": "code",
      "source": [
        "notas = [8, 7, 9, 10, 10, 7, 10, 8, 10]\n",
        "notas.index(10)"
      ],
      "metadata": {
        "colab": {
          "base_uri": "https://localhost:8080/"
        },
        "id": "YTqkcyN05cwC",
        "outputId": "24942c62-5c44-4eb0-bd9c-69aba302137f"
      },
      "execution_count": 11,
      "outputs": [
        {
          "output_type": "execute_result",
          "data": {
            "text/plain": [
              "3"
            ]
          },
          "metadata": {},
          "execution_count": 11
        }
      ]
    },
    {
      "cell_type": "markdown",
      "source": [
        "#**len()**\n",
        "\n",
        "Retorna o tamanho da lista, ou seja, a quantidade de elementos presentes nele."
      ],
      "metadata": {
        "id": "0euI2nLB5psh"
      }
    },
    {
      "cell_type": "code",
      "source": [
        "infos_aluno = [1, \"Cubos Academy\", [10, 9, 8.9], 8.7, True]\n",
        "\n",
        "len(infos_aluno)"
      ],
      "metadata": {
        "colab": {
          "base_uri": "https://localhost:8080/"
        },
        "id": "q4IFnclF5iPi",
        "outputId": "d458d483-a4f3-4fba-9e02-96a26f0a4d80"
      },
      "execution_count": 12,
      "outputs": [
        {
          "output_type": "execute_result",
          "data": {
            "text/plain": [
              "5"
            ]
          },
          "metadata": {},
          "execution_count": 12
        }
      ]
    },
    {
      "cell_type": "code",
      "source": [],
      "metadata": {
        "id": "4dNXHReV6Xgq"
      },
      "execution_count": null,
      "outputs": []
    }
  ]
}