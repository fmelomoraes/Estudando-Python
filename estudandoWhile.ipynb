{
  "nbformat": 4,
  "nbformat_minor": 0,
  "metadata": {
    "colab": {
      "provenance": [],
      "authorship_tag": "ABX9TyMBBaIq05ONWVPmgATlTDFk"
    },
    "kernelspec": {
      "name": "python3",
      "display_name": "Python 3"
    },
    "language_info": {
      "name": "python"
    }
  },
  "cells": [
    {
      "cell_type": "markdown",
      "source": [
        "#Testando Exemplos da Aula:"
      ],
      "metadata": {
        "id": "yX0oMZBNjvSv"
      }
    },
    {
      "cell_type": "code",
      "execution_count": null,
      "metadata": {
        "id": "KiTshWcGhiDU"
      },
      "outputs": [],
      "source": [
        "repetir = True\n",
        "contador = 0\n",
        "\n",
        "while (repetir):\n",
        "  print(contador)\n",
        "  if (contador >= 10):\n",
        "    repetir = False\n",
        "  contador += 1"
      ]
    },
    {
      "cell_type": "markdown",
      "source": [
        "Exemplo 02\n"
      ],
      "metadata": {
        "id": "YCBucUrtj5qH"
      }
    },
    {
      "cell_type": "code",
      "source": [
        "repetir = True\n",
        "alvo = 5\n",
        "\n",
        "while (repetir):\n",
        "  digitado = input(\"Digite um número de 1 a 10: \")\n",
        "  print(\"Digitou: \" + digitado)\n",
        "  if (int(digitado) == alvo):\n",
        "    print(\"Acertou!\")\n",
        "  else:\n",
        "    print(\"Errou, tente novamente :/\")\n"
      ],
      "metadata": {
        "id": "jC3mYmMrj8d3"
      },
      "execution_count": null,
      "outputs": []
    },
    {
      "cell_type": "markdown",
      "source": [
        "# Exercício pra fixação\n",
        "1/2- Imprimir Números Pares entre 1 e 50:\n"
      ],
      "metadata": {
        "id": "9v3qPzyhyWhu"
      }
    },
    {
      "cell_type": "code",
      "source": [
        "numero = 2\n",
        "while numero <= 50:\n",
        "    print(numero)\n",
        "    numero += 2\n"
      ],
      "metadata": {
        "id": "4en-6wYXyZp-"
      },
      "execution_count": null,
      "outputs": []
    },
    {
      "cell_type": "markdown",
      "source": [
        "2/2- Imprimir Números Pares entre 1 e 50:"
      ],
      "metadata": {
        "id": "ucxOqwa516vP"
      }
    },
    {
      "cell_type": "code",
      "source": [
        "numero =1\n",
        "\n",
        "while numero <= 50:\n",
        "  if numero % 2 == 0:\n",
        "    print(numero)\n",
        "  numero += 1"
      ],
      "metadata": {
        "id": "BPRbMq3M1_fG"
      },
      "execution_count": null,
      "outputs": []
    },
    {
      "cell_type": "markdown",
      "source": [
        "2- Contar Regressivamente de 10 a 0\n"
      ],
      "metadata": {
        "id": "ZVVVrvO_yzRW"
      }
    },
    {
      "cell_type": "code",
      "source": [
        "contador = 10\n",
        "while contador >= 0:\n",
        "  print(contador)\n",
        "  contador -= 1"
      ],
      "metadata": {
        "id": "ZoJ9NJZ_y0YP"
      },
      "execution_count": null,
      "outputs": []
    },
    {
      "cell_type": "markdown",
      "source": [
        "3- Adivinhe o Número:\n"
      ],
      "metadata": {
        "id": "yNbrqQ0ozJgu"
      }
    },
    {
      "cell_type": "code",
      "source": [
        "repetir = True\n",
        "alvo = 6\n",
        "\n",
        "while (repetir):\n",
        "  Digitado = input (\"Digite um numero de 1 a 10\")\n",
        "  print(\"O numero digitado foi: \"+ Digitado)\n",
        "\n",
        "  if (int(Digitado) == alvo):\n",
        "      print(\"Acertou!\")\n",
        "  else:\n",
        "      print(\"Errou, tente novamente :/\")\n",
        "\n",
        ""
      ],
      "metadata": {
        "id": "lMNZnMqczDJ2"
      },
      "execution_count": null,
      "outputs": []
    },
    {
      "cell_type": "markdown",
      "source": [],
      "metadata": {
        "id": "94yNxmwT8Yzf"
      }
    },
    {
      "cell_type": "code",
      "source": [
        "4 - Número par ou ímpar\n",
        "\n"
      ],
      "metadata": {
        "id": "0ldZ3dlw0dgH"
      },
      "execution_count": null,
      "outputs": []
    },
    {
      "cell_type": "code",
      "source": [
        "numero = input(\"Digite um número: \")\n",
        "numero = int(numero)\n",
        "\n",
        "if numero % 2 == 0:\n",
        "    print(\"O numero é par!\")\n",
        "else:\n",
        "    print(\"O numero é ímpar!\")"
      ],
      "metadata": {
        "id": "OaJbyac28d0P"
      },
      "execution_count": null,
      "outputs": []
    },
    {
      "cell_type": "markdown",
      "source": [
        "5- Aprovado ou reprovado"
      ],
      "metadata": {
        "id": "MR3tAoSy8u5v"
      }
    },
    {
      "cell_type": "code",
      "source": [
        "repetir = True\n",
        "nota = 0\n",
        "\n",
        "while (nota):\n",
        "  nota = input(\"Digite a nota final do aluno: \")\n",
        "\n",
        "repetir = True\n",
        "\n",
        "while (repetir):\n",
        "  nota = input(\"Digite a nota final do aluno: \")\n",
        "  nota = float(nota)\n",
        "\n",
        "  if nota >= 6.0:\n",
        "    print(\"Aluno aprovado!\")\n",
        "  elif nota > 5 and nota < 6:\n",
        "    print(\"Aluno em Recuperação\")\n",
        "\n",
        "  else:\n",
        "    print(\"REPROVADO\")\n",
        "    repetir = False"
      ],
      "metadata": {
        "id": "lUhv6xQl8y-X"
      },
      "execution_count": null,
      "outputs": []
    }
  ]
}